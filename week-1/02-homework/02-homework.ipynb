{
  "cells": [
    {
      "cell_type": "markdown",
      "id": "76639b6d-da73-4e1e-8aaa-0070a2403485",
      "metadata": {
        "id": "76639b6d-da73-4e1e-8aaa-0070a2403485"
      },
      "source": [
        "# Homework 2: Variables and Boolean Expressions\n",
        "\n",
        "## **Submission Guidelines**\n",
        "* Focus on completing Exercises 1-4. Exercise 5 is a _stretch challenge_.\n",
        "* Submit your work as a single Python file (__`.py`__) or a Jupyter Notebook (__`.ipynb`__).\n",
        "* Clearly label each exercise and include comments to explain your logic.\n",
        "\n",
        "## Instructions\n",
        "\n",
        "Complete the following exercises in a single Python file or Jupyter Notebook. Clearly label each exercise and when needed, include comments explaining your logic. Focus on completing Exercise 1 through 4. Exercise 5 is a _stretch challenge_."
      ]
    },
    {
      "cell_type": "markdown",
      "id": "1b3cec93-6b5b-4d78-81ab-17ab17b75a25",
      "metadata": {
        "id": "1b3cec93-6b5b-4d78-81ab-17ab17b75a25"
      },
      "source": [
        "### Exercise 1: Variables\n",
        "* Each scenario below describes some data to be manipulated by your code. Choose appropriate variable names (and values) and create variables/expressions for these scenarios.\n",
        "  "
      ]
    },
    {
      "cell_type": "markdown",
      "id": "8a3f8bb8-024e-4645-b633-356db225d206",
      "metadata": {
        "id": "8a3f8bb8-024e-4645-b633-356db225d206"
      },
      "source": [
        "1. Determine the cost of some number of pounds of cement. Assume there is a sales tax that applies.\n",
        "  "
      ]
    },
    {
      "cell_type": "code",
      "execution_count": 1,
      "id": "d0fe743d-1acd-41a8-a0b9-92aedc8fc0a4",
      "metadata": {
        "colab": {
          "base_uri": "https://localhost:8080/"
        },
        "id": "d0fe743d-1acd-41a8-a0b9-92aedc8fc0a4",
        "outputId": "2efd1777-64f7-4ee5-f21f-3c7ae5e9bf64"
      },
      "outputs": [
        {
          "output_type": "stream",
          "name": "stdout",
          "text": [
            "27.5\n"
          ]
        }
      ],
      "source": [
        "# Exercise 1 - Part 1\n",
        "\n",
        "#Assume the cement in pound is 25$ and there is 10% sales tax\n",
        "cement_in_lb = 25\n",
        "salesTax = 0.1\n",
        "#Then the total cost of the cement including tax would be cementprice + 10% tax\n",
        "total_amount=(cement_in_lb * salesTax) + cement_in_lb\n",
        "#print the total amount\n",
        "print(total_amount)"
      ]
    },
    {
      "cell_type": "markdown",
      "id": "b1aa5351-43b1-401f-b15a-ecff2d4c393b",
      "metadata": {
        "id": "b1aa5351-43b1-401f-b15a-ecff2d4c393b"
      },
      "source": [
        "2. Given the cost of various containers of eggs (perhaps half a dozen, one dozen, and 1 1/2 dozen), determine the cost _per egg_ for each of those containers.\n",
        "  "
      ]
    },
    {
      "cell_type": "code",
      "execution_count": 4,
      "id": "e757836e-1848-434f-9301-d41470770f49",
      "metadata": {
        "colab": {
          "base_uri": "https://localhost:8080/"
        },
        "id": "e757836e-1848-434f-9301-d41470770f49",
        "outputId": "978a0a64-283f-4c32-e246-9d769992a5a4"
      },
      "outputs": [
        {
          "output_type": "stream",
          "name": "stdout",
          "text": [
            "0.6666666666666666\n"
          ]
        }
      ],
      "source": [
        "# Exercise 1 - Part 2\n",
        "\n",
        "# This program calculates the cost per egg depending on which container size is chosen.\n",
        "# First, we assign the total price for each container:\n",
        "dozen = 10\n",
        "half_dozen = 6\n",
        "one_half_dozen = 12\n",
        "\n",
        "# We then pick one container to check the cost per egg.\n",
        "Container = one_half_dozen\n",
        "# and compute the cost per egg by dividing the container price\n",
        "# by the number of eggs it contains.\n",
        "if Container == dozen:\n",
        "    Container = dozen/12\n",
        "elif Container == one_half_dozen:\n",
        "    Container = one_half_dozen/18\n",
        "else:\n",
        "    Container = half_dozen/6\n",
        "\n",
        "print(Container)\n",
        "\n"
      ]
    },
    {
      "cell_type": "markdown",
      "id": "192dfb2f-790e-4725-b201-3b803f4fc348",
      "metadata": {
        "id": "192dfb2f-790e-4725-b201-3b803f4fc348"
      },
      "source": [
        "3. Given an hourly wage and a number of hours worked, determine how much a worker should be paid for shoveling snow."
      ]
    },
    {
      "cell_type": "code",
      "execution_count": 2,
      "id": "9f098469-0470-4a68-ba73-721bd6526c2c",
      "metadata": {
        "colab": {
          "base_uri": "https://localhost:8080/"
        },
        "id": "9f098469-0470-4a68-ba73-721bd6526c2c",
        "outputId": "beb03c11-f3a7-413b-f1b7-c662a5bfe445"
      },
      "outputs": [
        {
          "output_type": "stream",
          "name": "stdout",
          "text": [
            "300\n"
          ]
        }
      ],
      "source": [
        "# Exercise 1 - Part 3\n",
        "hourly_wage = 20\n",
        "hours_worked = 15\n",
        "pay = hourly_wage * hours_worked\n",
        "print(pay)"
      ]
    },
    {
      "cell_type": "markdown",
      "id": "3a702132-7720-45b3-97d6-6dc7d4fc1113",
      "metadata": {
        "id": "3a702132-7720-45b3-97d6-6dc7d4fc1113"
      },
      "source": [
        "### Exercise 2: Boolean Expressions\n",
        "* Each scenario below describes some data to be manipulated by your code. Choose appropriate variable names (and values) and create Boolean expressions for these scenarios.\n",
        "  "
      ]
    },
    {
      "cell_type": "markdown",
      "id": "192e9f66-c2a7-4933-beaa-4666f57ac042",
      "metadata": {
        "id": "192e9f66-c2a7-4933-beaa-4666f57ac042"
      },
      "source": [
        "1. Given the number of hours worked in a week, determine whether the employee will receive any overtime pay.\n",
        "  "
      ]
    },
    {
      "cell_type": "code",
      "execution_count": 6,
      "id": "d99bbc14-4ab9-4cc2-abf4-0f847d4aa95c",
      "metadata": {
        "colab": {
          "base_uri": "https://localhost:8080/"
        },
        "id": "d99bbc14-4ab9-4cc2-abf4-0f847d4aa95c",
        "outputId": "48425404-c76b-4068-a0de-447daed175cf"
      },
      "outputs": [
        {
          "output_type": "stream",
          "name": "stdout",
          "text": [
            "True\n"
          ]
        }
      ],
      "source": [
        "# Exercise 2 - Part 1\n",
        "\n",
        "#assume the employee work 50 hour this week\n",
        "number_of_hours_worked = 50\n",
        "overtime_pay = number_of_hours_worked > 40\n",
        "print(overtime_pay)"
      ]
    },
    {
      "cell_type": "markdown",
      "id": "39e3ed1b-b146-4653-a011-05cc34913574",
      "metadata": {
        "id": "39e3ed1b-b146-4653-a011-05cc34913574"
      },
      "source": [
        "2. Determine whether someone else's name is the same as your name.\n",
        "  "
      ]
    },
    {
      "cell_type": "code",
      "execution_count": 7,
      "id": "99c07417-eb54-44db-8fdf-d890b0f48892",
      "metadata": {
        "colab": {
          "base_uri": "https://localhost:8080/"
        },
        "id": "99c07417-eb54-44db-8fdf-d890b0f48892",
        "outputId": "fbb619d1-cfbb-49ef-e08e-be7fb38e71e5"
      },
      "outputs": [
        {
          "output_type": "stream",
          "name": "stdout",
          "text": [
            "True\n"
          ]
        }
      ],
      "source": [
        "# Exercise 2 - Part 2\n",
        "person_1 = \"Sam\"\n",
        "person_2 = \"Sam\"\n",
        "same_name = person_1 == person_2\n",
        "print(same_name)"
      ]
    },
    {
      "cell_type": "markdown",
      "id": "906a7a13-ae3e-4369-8853-a970d326c03e",
      "metadata": {
        "id": "906a7a13-ae3e-4369-8853-a970d326c03e"
      },
      "source": [
        "3. Determine whether the number of consecutive days of rain is at least 3"
      ]
    },
    {
      "cell_type": "code",
      "execution_count": 12,
      "id": "490fd285-10c5-4d98-8bb5-fde0566e6064",
      "metadata": {
        "colab": {
          "base_uri": "https://localhost:8080/"
        },
        "id": "490fd285-10c5-4d98-8bb5-fde0566e6064",
        "outputId": "3c03b759-baf1-4be3-fe01-01b2a74ce727"
      },
      "outputs": [
        {
          "output_type": "stream",
          "name": "stdout",
          "text": [
            "True\n"
          ]
        }
      ],
      "source": [
        "# Exercise 2 - Part 3\n",
        "\n",
        "number_of_days = 5\n",
        "if number_of_days >= 3:\n",
        "  print(True)\n",
        "else:\n",
        "  print(False)"
      ]
    },
    {
      "cell_type": "markdown",
      "id": "6901b93f-56e3-4400-9acb-cee75d015682",
      "metadata": {
        "id": "6901b93f-56e3-4400-9acb-cee75d015682"
      },
      "source": [
        "### Exercise 3: Pseudocode\n",
        "* Turn the following bits of pseudocode into __`if`__ statements\n",
        "  "
      ]
    },
    {
      "cell_type": "markdown",
      "id": "9dfa5f07-9053-4497-ab09-a2dd4d4445f1",
      "metadata": {
        "id": "9dfa5f07-9053-4497-ab09-a2dd4d4445f1"
      },
      "source": [
        "1. Output a warning if the person's name is empty"
      ]
    },
    {
      "cell_type": "code",
      "source": [
        "name = ''\n",
        "if name == '':\n",
        "    print('Warning: Empty name')"
      ],
      "metadata": {
        "id": "4e8qo686HGi_"
      },
      "id": "4e8qo686HGi_",
      "execution_count": null,
      "outputs": []
    },
    {
      "cell_type": "markdown",
      "id": "a3f4e55f-8d45-4fef-bfe2-a754e694872e",
      "metadata": {
        "id": "a3f4e55f-8d45-4fef-bfe2-a754e694872e"
      },
      "source": [
        "3. BMI can be calculated as 703 times weight in pounds, divided by height in inches squared. Output \"Healthy BMI\" if the calculated BMI is below 25."
      ]
    },
    {
      "cell_type": "code",
      "source": [
        "weight_in_lb = 180\n",
        "height_in_inches = 65\n",
        "bmi = (703 * weight_in_lb) / (height_in_inches**2)\n",
        "if bmi < 25:\n",
        "    print('Healthy BMI')"
      ],
      "metadata": {
        "id": "h4CafwvEHSiE"
      },
      "id": "h4CafwvEHSiE",
      "execution_count": 15,
      "outputs": []
    },
    {
      "cell_type": "markdown",
      "id": "8f66564d-86cf-4141-be27-fe41a0145695",
      "metadata": {
        "id": "8f66564d-86cf-4141-be27-fe41a0145695"
      },
      "source": [
        "2. Turn on the fuel warning light when the number of gallons remaining is less than 1.5"
      ]
    },
    {
      "cell_type": "code",
      "execution_count": 13,
      "id": "bad43ae1",
      "metadata": {
        "colab": {
          "base_uri": "https://localhost:8080/"
        },
        "id": "bad43ae1",
        "outputId": "308048eb-f440-4b72-d1ab-73cb32a477d4"
      },
      "outputs": [
        {
          "output_type": "stream",
          "name": "stdout",
          "text": [
            "Fuel warning light is on\n"
          ]
        }
      ],
      "source": [
        "# Exercise 3\n",
        "number_of_gallons = 1.4\n",
        "if number_of_gallons < 1.5:\n",
        "    print('Fuel warning light is on')"
      ]
    },
    {
      "cell_type": "markdown",
      "id": "2c55859e-fa56-4690-a8a6-70b73e1249fc",
      "metadata": {
        "id": "2c55859e-fa56-4690-a8a6-70b73e1249fc"
      },
      "source": [
        "### Exercise 4: if statements\n",
        "* Explain what each of the following __`if`__ statements is doing/asking"
      ]
    },
    {
      "cell_type": "code",
      "execution_count": null,
      "id": "e282eb92-7ac0-47c8-9ee6-6311d7832a39",
      "metadata": {
        "id": "e282eb92-7ac0-47c8-9ee6-6311d7832a39"
      },
      "outputs": [],
      "source": [
        "feet = 4\n",
        "inches = 8\n",
        "\n",
        "if feet * 12 + inches >= 56:\n",
        "    print('...')"
      ]
    },
    {
      "cell_type": "code",
      "execution_count": null,
      "id": "a403c893-6b7e-4497-9e44-14e1ca773181",
      "metadata": {
        "id": "a403c893-6b7e-4497-9e44-14e1ca773181"
      },
      "outputs": [],
      "source": [
        "# Exercise 4 - Part 1\n",
        "\n",
        "#Checks whether the total height (in inches) is greater than or equal to 56 inches.\n",
        "#If the condition is true print . . ."
      ]
    },
    {
      "cell_type": "code",
      "execution_count": null,
      "id": "d20594b7-6e22-49c9-af84-59f842357bc4",
      "metadata": {
        "id": "d20594b7-6e22-49c9-af84-59f842357bc4"
      },
      "outputs": [],
      "source": [
        "hours = 220\n",
        "days = 0\n",
        "\n",
        "if hours > 23:\n",
        "    days = hours // 24\n",
        "    print(days)\n",
        "\n",
        "print(hours - days * 24)"
      ]
    },
    {
      "cell_type": "code",
      "execution_count": 16,
      "id": "64dac05b-d423-448f-8369-6f0f6b0cb9c3",
      "metadata": {
        "id": "64dac05b-d423-448f-8369-6f0f6b0cb9c3"
      },
      "outputs": [],
      "source": [
        "# Exercise 4 - Part 2\n",
        "\n",
        "#If the hours more than 23\n",
        "  #Divide hours by 24 using whole number division\n",
        "  #store the resulet in days variable\n",
        "  #print days\n",
        "#otherwise(if hours less than or equal to 23)\n",
        "  #Calculate the remaining hours by subtracting (days × 24) from hours Output the remaining hours"
      ]
    },
    {
      "cell_type": "code",
      "execution_count": 17,
      "id": "6b8c21b4-3a09-435d-a36c-0bde2fea31ad",
      "metadata": {
        "colab": {
          "base_uri": "https://localhost:8080/"
        },
        "id": "6b8c21b4-3a09-435d-a36c-0bde2fea31ad",
        "outputId": "330dbde7-de02-46dd-eeb8-bd74b74bf113"
      },
      "outputs": [
        {
          "output_type": "stream",
          "name": "stdout",
          "text": [
            "3 dozen\n",
            "plus 9\n"
          ]
        }
      ],
      "source": [
        "eggs = 45\n",
        "\n",
        "if eggs >= 12:\n",
        "    print(eggs // 12, 'dozen')\n",
        "\n",
        "print('plus', eggs - (eggs // 12) * 12)"
      ]
    },
    {
      "cell_type": "code",
      "execution_count": null,
      "id": "23dee90b-6807-4ca7-8a3b-77a58c21217f",
      "metadata": {
        "id": "23dee90b-6807-4ca7-8a3b-77a58c21217f"
      },
      "outputs": [],
      "source": [
        "# Exercise 4 - Part 3\n",
        "\n",
        "#If eggs are greater than or equal to 12\n",
        "  #print the calculated amount of egg divide by 12 using whole number division\n",
        "#Calculate the leftover eggs by subtracting (dozens × 12) from the total eggs\n",
        "#Output the number of leftover eggs with the word \"plus\""
      ]
    },
    {
      "cell_type": "markdown",
      "id": "b0196bce-78f4-489f-8209-0e4d0eb601b9",
      "metadata": {
        "id": "b0196bce-78f4-489f-8209-0e4d0eb601b9"
      },
      "source": [
        "### Exercise 5: if statements\n",
        "1. Turn the following English description of a problem (steps) into pseudocode. Not that where you see \"find out\" below, you can either assume the value will be in a variable, or you can get input from the user. Remember this is pseudocode you are writing, so even though we haven't learned how to get input from the user, you could specify that action in your pseudocode.\n",
        "\n",
        "    1. find out how many people are in their party\n",
        "    1. find out the start time of the movie they want to see\n",
        "    1. find out how many seniors (62 and older) are in their party\n",
        "    1. find out how many students are in their party\n",
        "    1. the price of their tickets will be $10 each for movies that start after 4:30 pm and $7.50 for movies that start before 4:30 pm\n",
        "    1. seniors (62 and older) receive a 50% discount on the ticket price\n",
        "    1. students received a 25% discount on the ticket price\n",
        "    1. a group of 10 or more paid at the same time saves $1 per ticket, on top of any other discounts\n",
        "\n",
        "1. Now turn your pseudocode into working Python code. Again, we haven't learned how to get input from the user but could also look it up or you could set variables with various values and ensure the result is correct."
      ]
    },
    {
      "cell_type": "code",
      "execution_count": 18,
      "id": "c6738a10-12ad-410a-8b16-b1b8a517cece",
      "metadata": {
        "colab": {
          "base_uri": "https://localhost:8080/"
        },
        "id": "c6738a10-12ad-410a-8b16-b1b8a517cece",
        "outputId": "92ab8284-1a70-44f5-d06c-d41fbf5fe12b"
      },
      "outputs": [
        {
          "output_type": "stream",
          "name": "stdout",
          "text": [
            "145.0\n"
          ]
        }
      ],
      "source": [
        "# Exercise 5\n",
        "number_of_guests = 80\n",
        "movie_time = 4.00\n",
        "seniors = 15\n",
        "students = 45\n",
        "ticket_price = 10\n",
        "if movie_time <= 4.30:\n",
        "  ticket_price = 7.50\n",
        "else:\n",
        "  ticket_price = 10.00\n",
        "if seniors > 0:\n",
        "  ticket_price = ticket_price/2\n",
        "if students > 0:\n",
        "  ticket_price = ticket_price * 0.75\n",
        "if number_of_guests >= 10:\n",
        "  ticket_price = ticket_price - 1\n",
        "total_price = number_of_guests * ticket_price\n",
        "print(total_price)\n"
      ]
    }
  ],
  "metadata": {
    "kernelspec": {
      "display_name": "Python 3 (ipykernel)",
      "language": "python",
      "name": "python3"
    },
    "language_info": {
      "codemirror_mode": {
        "name": "ipython",
        "version": 3
      },
      "file_extension": ".py",
      "mimetype": "text/x-python",
      "name": "python",
      "nbconvert_exporter": "python",
      "pygments_lexer": "ipython3",
      "version": "3.13.1"
    },
    "colab": {
      "provenance": []
    }
  },
  "nbformat": 4,
  "nbformat_minor": 5
}