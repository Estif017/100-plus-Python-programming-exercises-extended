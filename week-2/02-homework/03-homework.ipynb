{
  "cells": [
    {
      "cell_type": "markdown",
      "metadata": {
        "id": "9GMQ_UgEVPTf"
      },
      "source": [
        "# Homework 3: Operations and Logic"
      ]
    },
    {
      "cell_type": "markdown",
      "metadata": {
        "id": "25u5dU89VPTi"
      },
      "source": [
        "## **Submission Guidelines**\n",
        "* Focus on completing Exercises 1, 2 and 3. Exercises 4 and 5 are _stretch challenges_.\n",
        "* Submit your work as a single Python file (__`.py`__) or a Jupyter Notebook (__`.ipynb`__).\n",
        "* Clearly label each exercise and include comments to explain your logic.\n",
        "\n",
        "\n",
        "## Instructions"
      ]
    },
    {
      "cell_type": "markdown",
      "metadata": {
        "id": "iAVYeV1rVPTi"
      },
      "source": [
        "\n",
        "Copy this Jupyter Notebook and complete each exercise in the provided spaces.  \n",
        "\n",
        "- Clearly label each exercise and include comments explaining your logic.  \n",
        "- Focus on completing Exercises 1–3; Exercises 4 and 5 are a stretch challenge.\n",
        "- Modify the predefined variables as needed to test different cases.  \n",
        "\n",
        "**Remember to start with the English steps, write pseudocode, then write code.**"
      ]
    },
    {
      "cell_type": "markdown",
      "metadata": {
        "id": "F_4SA-nRVPTj"
      },
      "source": [
        "## **Exercise 1: Basic Conditional Statements**"
      ]
    },
    {
      "cell_type": "markdown",
      "metadata": {
        "id": "k73Q-7UQVPTj"
      },
      "source": [
        "\n",
        "1. **Write a Conditional Statement:** A variable `temperature` is already defined.\n",
        "2. **Use an If-Else Statement:** If the temperature is greater than 80, print `\"It's hot!\"`; otherwise, print `\"It's not too hot.\"`"
      ]
    },
    {
      "cell_type": "code",
      "execution_count": 10,
      "metadata": {
        "id": "EklK_3cHVPTj",
        "outputId": "d2cc2d60-2ec7-4c84-979e-285872061281",
        "colab": {
          "base_uri": "https://localhost:8080/"
        }
      },
      "outputs": [
        {
          "output_type": "stream",
          "name": "stdout",
          "text": [
            "It's hot!\n"
          ]
        }
      ],
      "source": [
        "# Exercise 1\n",
        "\n",
        "temperature = 85  # Change this value to test different conditions\n",
        "\n",
        "# Your if-else statement here\n",
        "#pseudocode\n",
        "#First check if the temprature is greater than 80\n",
        "  #If print \"It's hot!\"\n",
        "  #otherwise print \"It's not too hot!\"\n",
        "\n",
        "if temperature > 80:\n",
        "  print(\"It's hot!\")\n",
        "else:\n",
        "  print(\"It's not too hot.\")"
      ]
    },
    {
      "cell_type": "markdown",
      "metadata": {
        "id": "-EIZqPrEVPTk"
      },
      "source": [
        "\n",
        "## **Exercise 2: Logical Operators**"
      ]
    },
    {
      "cell_type": "markdown",
      "metadata": {
        "id": "bWNLHrheVPTl"
      },
      "source": [
        "\n",
        "1. **Boolean Variables:** `is_raining` and `have_umbrella` are already defined.\n",
        "2. **Use Logical Operators:** Write an `if` statement that prints `\"You will stay dry\"` only if you have an umbrella or it's not raining."
      ]
    },
    {
      "cell_type": "code",
      "execution_count": 11,
      "metadata": {
        "id": "bTXkAlW9VPTl",
        "outputId": "da27723e-a844-4272-f7ed-82247d8ab4e5",
        "colab": {
          "base_uri": "https://localhost:8080/"
        }
      },
      "outputs": [
        {
          "output_type": "stream",
          "name": "stdout",
          "text": [
            "You will stay dry\n"
          ]
        }
      ],
      "source": [
        "# Exercise 2\n",
        "\n",
        "is_raining = False  # Change this to test\n",
        "have_umbrella = True  # Change this to test\n",
        "\n",
        "# Your conditional logic here\n",
        "\n",
        "#pseudocode\n",
        "#Check if have unbrella\n",
        "  #If have unbrella check if is raining or not\n",
        "    #If is not raininng print \"You will stay dry\"\n",
        "if have_umbrella:\n",
        "  if not is_raining:\n",
        "    print(\"You will stay dry\")\n"
      ]
    },
    {
      "cell_type": "markdown",
      "metadata": {
        "id": "hfo7AMYSVPTl"
      },
      "source": [
        "## **Exercise 3: Nested Conditions**"
      ]
    },
    {
      "cell_type": "markdown",
      "metadata": {
        "id": "EXHLXGcYVPTl"
      },
      "source": [
        "\n",
        "A **store discount system** follows these rules:\n",
        "- If a customer is a member, they get a 10% discount.\n",
        "- If they spend over $100, they get an additional 5% discount.\n",
        "- If they are not a member, they get no discount.\n",
        "\n",
        "Write a program that calculates the discount using predefined values for `is_member` and `total_spent`."
      ]
    },
    {
      "cell_type": "code",
      "execution_count": 16,
      "metadata": {
        "id": "fh9b7j9fVPTm",
        "outputId": "ab74938d-a6b8-47d5-979e-4b7d4ed08c7e",
        "colab": {
          "base_uri": "https://localhost:8080/"
        }
      },
      "outputs": [
        {
          "output_type": "stream",
          "name": "stdout",
          "text": [
            "The discount is 15.0 %\n"
          ]
        }
      ],
      "source": [
        "# Exercise 3\n",
        "\n",
        "is_member = True  # Change this value to test\n",
        "total_spent = 120  # Change this value to test\n",
        "\n",
        "# Your logic here\n",
        "#pseudocode\n",
        "#Check if the customer is a member\n",
        "  #If the customer is a member discount = 10%\n",
        "  #If total spend is morethan 100 add 5% discount on the top of 10%\n",
        "# otherwise if customer is not a member discount is 0\n",
        "discount = 0\n",
        "if is_member:\n",
        "  discount += 0.1\n",
        "  if total_spent > 100:\n",
        "    discount += 0.05\n",
        "else:\n",
        "  discount = 0\n",
        "print(\"The discount is\",round(discount,2)*100,\"%\")"
      ]
    },
    {
      "cell_type": "markdown",
      "metadata": {
        "id": "oqu8OabzVPTm"
      },
      "source": [
        "\n",
        "## **Exercise 4: Manual Number Comparison (Extra Hard)**"
      ]
    },
    {
      "cell_type": "markdown",
      "metadata": {
        "id": "VFzlxsApVPTm"
      },
      "source": [
        "\n",
        "Given three numbers `a, b, c`, determine and print the **largest** and **smallest** **without using built-in functions** like `max()` or `min()`.\n",
        "\n",
        "- **Hint**: You must manually compare each number using nested `if` statements."
      ]
    },
    {
      "cell_type": "code",
      "execution_count": 13,
      "metadata": {
        "id": "e8YwfmNsVPTm"
      },
      "outputs": [],
      "source": [
        "# Exercise 4\n",
        "a = 10\n",
        "b = 20\n",
        "c = 15\n",
        "\n",
        "# Your logic here\n",
        "#\n"
      ]
    },
    {
      "cell_type": "markdown",
      "metadata": {
        "id": "dL-n4nvFVPTm"
      },
      "source": [
        "## **Exercise 5: Nested Logical Puzzle (Nearly Impossible)**"
      ]
    },
    {
      "cell_type": "markdown",
      "metadata": {
        "id": "u-RLwMuzVPTm"
      },
      "source": [
        "\n",
        "You're given four integer variables: `a`, `b`, `c`, and `d`. Write a program to determine and print:\n",
        "\n",
        "1. **The second largest** number among the four variables **without using any built-in functions or sorting**.\n",
        "2. Additionally, identify if the second largest number is **even or odd** and print the result accordingly.\n",
        "\n",
        "You must solve this **only using nested conditional statements and logical operators**.\n",
        "\n",
        "**Example Output:**  \n",
        "```\n",
        "The second largest number is 42\n",
        "The second largest number is even.\n",
        "```\n",
        "\n",
        "This challenge demands careful consideration of multiple comparisons and conditions.\n"
      ]
    },
    {
      "cell_type": "code",
      "execution_count": 14,
      "metadata": {
        "id": "f0viCpXPVPTm"
      },
      "outputs": [],
      "source": [
        "# Exercise 5\n",
        "a = 25  # Change this to test\n",
        "b = 42  # Change this to test\n",
        "c = 37  # Change this to test\n",
        "d = 42  # Change this to test\n",
        "\n",
        "# Your logic here\n"
      ]
    }
  ],
  "metadata": {
    "kernelspec": {
      "display_name": "Python 3",
      "language": "python",
      "name": "python3"
    },
    "language_info": {
      "codemirror_mode": {
        "name": "ipython",
        "version": 3
      },
      "file_extension": ".py",
      "mimetype": "text/x-python",
      "name": "python",
      "nbconvert_exporter": "python",
      "pygments_lexer": "ipython3",
      "version": "3.12.2"
    },
    "colab": {
      "provenance": []
    }
  },
  "nbformat": 4,
  "nbformat_minor": 0
}