{
  "cells": [
    {
      "cell_type": "markdown",
      "metadata": {
        "id": "eQdVMeaElNGi"
      },
      "source": [
        "# Homework 4: Advanced Logic"
      ]
    },
    {
      "cell_type": "markdown",
      "metadata": {
        "id": "tI_4EthklNGk"
      },
      "source": [
        "## **Submission Guidelines**"
      ]
    },
    {
      "cell_type": "markdown",
      "metadata": {
        "id": "aIutzBAGlNGl"
      },
      "source": [
        "* Focus on completing Exercises 1-4. Exercises 5 are _stretch challenges_.\n",
        "* Submit your work as a single Python file (__`.py`__) or a Jupyter Notebook (__`.ipynb`__).\n",
        "* Clearly label each exercise and include comments to explain your logic."
      ]
    },
    {
      "cell_type": "markdown",
      "metadata": {
        "id": "7I3T0yXGlNGl"
      },
      "source": [
        "\n",
        "\n",
        "## Instructions"
      ]
    },
    {
      "cell_type": "markdown",
      "metadata": {
        "id": "D9NwORGHlNGl"
      },
      "source": [
        "\n",
        "Copy this Jupyter Notebook and complete each exercise in the provided spaces.  \n",
        "\n",
        "- Clearly label each exercise and include comments explaining your logic.  \n",
        "- Focus on completing Exercises 1–4; Exercise 5 is a stretch challenge.\n",
        "- Modify the predefined variables as needed to test different cases.  \n",
        "\n",
        "**Remember to start with the English steps, write pseudocode, then write code.**"
      ]
    },
    {
      "cell_type": "markdown",
      "metadata": {
        "id": "b0X9HsGflNGm"
      },
      "source": [
        "## **Exercise 1: Multi-Condition Decisions**"
      ]
    },
    {
      "cell_type": "markdown",
      "metadata": {
        "id": "sVvvtBaplNGm"
      },
      "source": [
        "\n",
        "A **movie rating system** follows these rules:\n",
        "   - If `age` is **less than 13**, print `\"PG movies only\"`.\n",
        "   - If `age` is **between 13 and 17**, print `\"PG-13 movies allowed\"`.\n",
        "   - Otherwise, print `\"All movies allowed\"`."
      ]
    },
    {
      "cell_type": "code",
      "execution_count": 1,
      "metadata": {
        "id": "yIMxisNllNGm",
        "outputId": "967a9d23-5244-4d6f-e4b6-40df7327d4b3",
        "colab": {
          "base_uri": "https://localhost:8080/"
        }
      },
      "outputs": [
        {
          "output_type": "stream",
          "name": "stdout",
          "text": [
            "PG-13 movies allowed\n"
          ]
        }
      ],
      "source": [
        "# Exercise 1\n",
        "\n",
        "age = 15  # Change this value to test\n",
        "\n",
        "# Your logic here\n",
        "if age < 13:\n",
        "  print(\"PG movies only\")\n",
        "elif age >= 13 and age <= 17:\n",
        "  print(\"PG-13 movies allowed\")\n",
        "else:\n",
        "  print(\"All movies allowed\")\n"
      ]
    },
    {
      "cell_type": "markdown",
      "metadata": {
        "id": "pvg0cRzYlNGn"
      },
      "source": [
        "## **Exercise 2: Decision Tree for Discounts**"
      ]
    },
    {
      "cell_type": "markdown",
      "metadata": {
        "id": "-UAqO7M4lNGo"
      },
      "source": [
        "\n",
        "A **discount system** follows these rules:\n",
        "- If `is_student` is `True`, apply a 20% discount.\n",
        "- If `age` is **65 or older**, apply a 15% discount.\n",
        "- If both conditions are met, apply the higher discount only."
      ]
    },
    {
      "cell_type": "code",
      "execution_count": 3,
      "metadata": {
        "id": "YXSWT62LlNGo",
        "outputId": "3406932b-dd43-4e82-faf3-ddef8f0c9e8b",
        "colab": {
          "base_uri": "https://localhost:8080/"
        }
      },
      "outputs": [
        {
          "output_type": "stream",
          "name": "stdout",
          "text": [
            "20% discount\n"
          ]
        }
      ],
      "source": [
        "# Exercise 2\n",
        "\n",
        "is_student = True  # Change this value to test\n",
        "age = 70  # Change this value to test\n",
        "\n",
        "# Your logic here\n",
        "if is_student and age >= 65:\n",
        "  print(\"20% discount\")\n",
        "elif age >= 65:\n",
        "  print(\"15% discount\")\n",
        "else:\n",
        "  print(\"No discount\")"
      ]
    },
    {
      "cell_type": "markdown",
      "metadata": {
        "id": "oFbxwBIIlNGo"
      },
      "source": [
        "\n",
        "## **Exercise 3: Loan Approval System**"
      ]
    },
    {
      "cell_type": "markdown",
      "metadata": {
        "id": "nH8Hdf1UlNGo"
      },
      "source": [
        "\n",
        "A **loan approval system** follows these rules:\n",
        "- Applicant **must be at least 18**.\n",
        "- Loan is **approved** if `income` is over **40k** OR `credit_score` is above **700**.\n",
        "- If the applicant has `has_debt = True`, then **both** conditions are required."
      ]
    },
    {
      "cell_type": "code",
      "execution_count": 17,
      "metadata": {
        "id": "qkAHKJKIlNGo",
        "outputId": "e32b1fb8-e599-4b8d-c65a-31083ea53993",
        "colab": {
          "base_uri": "https://localhost:8080/"
        }
      },
      "outputs": [
        {
          "output_type": "stream",
          "name": "stdout",
          "text": [
            "Loan denied, Insuffisent Income or Credit score\n"
          ]
        }
      ],
      "source": [
        "# Exercise 3\n",
        "\n",
        "age = 30  # Change this value to test\n",
        "income = 35000  # Change this value to test\n",
        "credit_score = 710  # Change this value to test\n",
        "has_debt = True  # Change this value to test\n",
        "\n",
        "# Your logic here\n",
        "if age >= 18:\n",
        "  if has_debt:\n",
        "    if income > 40000 and credit_score > 700:\n",
        "      print(\"Loan approved\")\n",
        "    else:\n",
        "      print(\"Loan denied, Insuffisent Income or Credit score\")\n",
        "  else:\n",
        "    print(\"Loan approved\")\n",
        "else:\n",
        "  print(\"Loan denied, Under Age\")"
      ]
    },
    {
      "cell_type": "markdown",
      "metadata": {
        "id": "JB645RAnlNGo"
      },
      "source": [
        "## **Exercise 4: Complex Weather Decision System**"
      ]
    },
    {
      "cell_type": "markdown",
      "metadata": {
        "id": "pR1g2isllNGp"
      },
      "source": [
        "\n",
        "A **weather advisory system** follows these rules:\n",
        "- If `temperature` is **below 32°F**, print `\"Freezing warning\"`.\n",
        "- If `temperature` is **between 32°F and 50°F**, print `\"Cold weather\"`.\n",
        "- If `temperature` is **above 50°F** and `humidity` is **above 70%**, print `\"Warm but humid\"`.\n",
        "- Otherwise, print `\"Mild weather\"`.\n"
      ]
    },
    {
      "cell_type": "code",
      "execution_count": 13,
      "metadata": {
        "id": "JzRyjeOtlNGp",
        "outputId": "85e1c278-5e89-48e6-ef63-fb15178f030d",
        "colab": {
          "base_uri": "https://localhost:8080/"
        }
      },
      "outputs": [
        {
          "output_type": "stream",
          "name": "stdout",
          "text": [
            "Warm but humid\n"
          ]
        }
      ],
      "source": [
        "# Exercise 4\n",
        "\n",
        "temperature = 55  # Change this value to test\n",
        "humidity = 80  # Change this value to test\n",
        "\n",
        "# Your logic here\n",
        "if temperature < 32:\n",
        "  print(\"Freezing warning\")\n",
        "elif temperature >= 32 and temperature <= 50:\n",
        "  print(\"Cold weather\")\n",
        "elif temperature > 50 and humidity > 70:\n",
        "  print(\"Warm but humid\")\n",
        "else:\n",
        "  print(\"Mild weather\")"
      ]
    },
    {
      "cell_type": "markdown",
      "metadata": {
        "id": "BzJZMvTXlNGp"
      },
      "source": [
        "## **Exercise 5: Advanced Multi-Step Bank Security System (Extra Hard)**"
      ]
    },
    {
      "cell_type": "markdown",
      "metadata": {
        "id": "ZrMhYSK_lNGp"
      },
      "source": [
        "\n",
        "Design a **bank security system** that follows these rules:\n",
        "- If `is_employee = True`, grant full access.\n",
        "- If `is_manager = True`, grant access to sensitive files.\n",
        "- If `is_customer = True` and `account_balance > 1000`, allow transactions.\n",
        "- If none of the conditions apply, print `\"Access Denied\"`.\n",
        "- **Extended Rule:** If `security_alert = True`, deny all access regardless of other conditions."
      ]
    },
    {
      "cell_type": "code",
      "execution_count": 18,
      "metadata": {
        "id": "xNq1TI5TlNGp",
        "outputId": "96731dd9-7267-4e6d-e32a-b9b5c718d2dd",
        "colab": {
          "base_uri": "https://localhost:8080/"
        }
      },
      "outputs": [
        {
          "output_type": "stream",
          "name": "stdout",
          "text": [
            "Access Denied, Security Alert\n"
          ]
        }
      ],
      "source": [
        "# Exercise 5\n",
        "\n",
        "is_employee = False  # Change this value to test\n",
        "is_manager = False  # Change this value to test\n",
        "is_customer = True  # Change this value to test\n",
        "account_balance = 5000  # Change this value to test\n",
        "security_alert = False  # Change this value to test\n",
        "\n",
        "# Your logic here\n",
        "if not security_alert:\n",
        "  if is_employee:\n",
        "    print(\"Full access granted\")\n",
        "  elif is_manager:\n",
        "    print(\"Access to sensitive files granted\")\n",
        "  elif is_customer and account_balance > 1000:\n",
        "    print(\"Transactions allowed\")\n",
        "  else:\n",
        "    print(\"Access Denied\")\n",
        "else:\n",
        "  print(\"Access Denied, Security Alert\")"
      ]
    }
  ],
  "metadata": {
    "language_info": {
      "name": "python"
    },
    "colab": {
      "provenance": []
    },
    "kernelspec": {
      "name": "python3",
      "display_name": "Python 3"
    }
  },
  "nbformat": 4,
  "nbformat_minor": 0
}